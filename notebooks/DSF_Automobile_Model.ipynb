{
 "cells": [
  {
   "cell_type": "markdown",
   "metadata": {},
   "source": [
    "# Lab 8: Developing a Regression Model with Automobile Dataset\n",
    "\n",
    "For this dataset, we will try to build a model to determine the price of a vehicle. We will use the dataset you cleaned last lab and actually build a prediction model for the price of the car. A model will help us understand the exact relationship between different variables and how these variables are used to predict the result.\n",
    "\n",
    "**Rubric**\n",
    "- 4 points: Complete the Jupyter Notebook as described. Analysis and written portions are completed in a professional manner. Use complete sentences and correct grammar.\n",
    "- 3 points: Completes only some of the Jupyter Notebook as described, or submission does not meet professionalism standards.\n",
    "- 2 points: Missing or incomplete"
   ]
  },
  {
   "cell_type": "markdown",
   "metadata": {},
   "source": [
    "## Set up your environment\n",
    "For this lab you will need to imort `pandas`, `numpy`, and `matplotlib.pyplot`. We will also use some modules  the package `sklearn` later in the lab, so install it using pip now."
   ]
  },
  {
   "cell_type": "code",
   "execution_count": null,
   "metadata": {},
   "outputs": [],
   "source": []
  },
  {
   "cell_type": "markdown",
   "metadata": {},
   "source": [
    "## Set up the dataset\n",
    "From your previous lab, export your modified DataFrame using `.to_csv()`. Use `.read_csv()` in the cell below to import your dataset into this notebook. "
   ]
  },
  {
   "cell_type": "code",
   "execution_count": null,
   "metadata": {},
   "outputs": [],
   "source": []
  },
  {
   "cell_type": "markdown",
   "metadata": {},
   "source": [
    "## Simple Linear Regression and Multiple Linear Regression\n",
    "Linear regression is one of the simpliest types of regression models. We will start by create simple linear regression models that use one variable to predict a response, then refine our prediction using multiple linear regression to use multiple variables to predict a response.\n",
    "\n",
    "### Linear Regression\n",
    "Simple Linear Regression is a method to help us understand the relationship between two variables:\n",
    "- The predictor/independent variable - $X$\n",
    "- The response/dependent variable (that we want to predict) - $Y$\n",
    "\n",
    "The result of linear regression is a **linear function** that predicts the he response (dependent) variable as a function of the predictor (independent) variable.\n",
    "\n",
    "Given\n",
    "$$\n",
    "Y: \\text{Response variable}\\\\\\\\\n",
    "X: \\text{Predictor variable}\n",
    "$$\n",
    "\n",
    "the linear regression line $\\hat{Y}$(pronounced y-hat) is in the form \n",
    "$$\n",
    "\\hat{Y} = a + b  X\n",
    "$$\n",
    "\n",
    "- $a$ refers to the **intercept** of the regression line, on other words: the value of $Y$ when $X$ is 0.\n",
    "- $b$ refers to the **slope** of the regression line, in other words: the value with which $Y$ changes then $X$ increased by 1 "
   ]
  },
  {
   "cell_type": "markdown",
   "metadata": {},
   "source": [
    "#### Loading the model\n",
    "We are going to use the libray [scikit-learn](https://scikit-learn.org/stable/) to use machine learning algorithms to help us build models. This is the last of the \"big four\" Python libraries used for data science.\n",
    "\n",
    "To start, we are going to use it to compute a [linear regression](https://scikit-learn.org/stable/modules/generated/sklearn.linear_model.LinearRegression.html) model. \n",
    "\n",
    "To create the model,\n",
    "1. Import `LinearRegression` with `from sklearn.linear_model import LinearRegression`\n",
    "2. Create a linear regression object called `lm` with the constructor `LinearRegression()`"
   ]
  },
  {
   "cell_type": "code",
   "execution_count": null,
   "metadata": {},
   "outputs": [],
   "source": []
  },
  {
   "cell_type": "markdown",
   "metadata": {},
   "source": [
    "#### How could highway-mpg help us predict car price?\n",
    "For this example, we want to look at how `highway-mpg` can help us predict car price.\n",
    "Using simple linear regression, we will create a linear function with \"highway-mpg\" as the predictor variable and the \"price\" as the response variable.\n",
    "\n",
    "Set the variable `x` to the `highway-mpg` column and `y` to the `price` column.\n",
    "*Hint: `x` needs to be 2-dimensional so use `df[['highway-mpg']]` instead of `df['highway-mpg']` like for `price`*\n"
   ]
  },
  {
   "cell_type": "code",
   "execution_count": null,
   "metadata": {},
   "outputs": [],
   "source": []
  },
  {
   "cell_type": "markdown",
   "metadata": {},
   "source": [
    "Fit a linear model predicting `price` using `highway-mpg` using `lm.fit(...)` with `x` and `y` as parameters."
   ]
  },
  {
   "cell_type": "code",
   "execution_count": null,
   "metadata": {},
   "outputs": [],
   "source": []
  },
  {
   "cell_type": "markdown",
   "metadata": {},
   "source": [
    "You can use your model with `lm.predict(...)` with `x` as a paramter. If you run you model with your existing `x`, the function will output an array with it's predicted `y` values. For the first 5 values of `x`, print out the input `highway-mpg`, the predicted price and the actual price."
   ]
  },
  {
   "cell_type": "code",
   "execution_count": null,
   "metadata": {},
   "outputs": [],
   "source": []
  },
  {
   "cell_type": "markdown",
   "metadata": {},
   "source": [
    "Great! Our model works. \n",
    "\n",
    "Let's look at the values of our model. The intercept($a$) is accessible as the variable `intercept_` and the slope($b$) is  as the variable `coef_`. Print out both here."
   ]
  },
  {
   "cell_type": "code",
   "execution_count": null,
   "metadata": {},
   "outputs": [],
   "source": []
  },
  {
   "cell_type": "markdown",
   "metadata": {},
   "source": [
    "So what is the final estimated model we get? As we saw above, we should get a linear model with the structure $\\hat{Y} = a + b  X$\n",
    "\n",
    "Plugging in the actual values we get: "
   ]
  },
  {
   "cell_type": "code",
   "execution_count": null,
   "metadata": {},
   "outputs": [],
   "source": []
  },
  {
   "cell_type": "markdown",
   "metadata": {},
   "source": [
    "#### How could engine-size help us predict car price?\n",
    "Using simple linear regression, we will create a linear function with \"engine-size\" as the predictor variable and the \"price\" as the response variable.\n",
    "\n",
    "Create a new `LinearRegression()` object called `lm1`. Then, set the variable `x1` to the `engine-size` column and `y1` to the `price` column."
   ]
  },
  {
   "cell_type": "code",
   "execution_count": null,
   "metadata": {},
   "outputs": [],
   "source": []
  },
  {
   "cell_type": "markdown",
   "metadata": {},
   "source": [
    "Train the model using \"engine-size\" as the independent variable and \"price\" as the dependent variable."
   ]
  },
  {
   "cell_type": "code",
   "execution_count": null,
   "metadata": {},
   "outputs": [],
   "source": []
  },
  {
   "cell_type": "markdown",
   "metadata": {},
   "source": [
    "Print out the slope and the intercept of the model. "
   ]
  },
  {
   "cell_type": "code",
   "execution_count": null,
   "metadata": {},
   "outputs": [],
   "source": []
  },
  {
   "cell_type": "markdown",
   "metadata": {},
   "source": [
    "Using either the `predict()` function or the intercept and slope functions, what is the predicted price for a vehicle with an engine-size of 98."
   ]
  },
  {
   "cell_type": "code",
   "execution_count": null,
   "metadata": {},
   "outputs": [],
   "source": []
  },
  {
   "cell_type": "markdown",
   "metadata": {},
   "source": [
    "### Multiple Linear Regression\n",
    "\n",
    "The models we have made so far are still pretty inaccurate. What if we want to predict car price using more than one variable?\n",
    "\n",
    "If we want to use more variables in our model to predict car price, we can use **multiple linear regression**.\n",
    "Multiple linear regression is very similar to simple linear regression, but this method is used to explain the relationship between one continuous response (dependent) variable and **two or more** predictor (independent) variables.\n",
    "Most of the real-world regression models involve multiple predictors. We will illustrate the structure by using four predictor variables, but these results can generalize to any integer.\n",
    "\n",
    "Given \n",
    "\n",
    "$$\n",
    "Y: \\text{Response variable}\\\\\\\\\n",
    "X_1: \\text{Predictor variable}\\\\\\\\\n",
    "X_2: \\text{Predictor variable}\\\\\\\\\n",
    "X_3: \\text{Predictor variable}\\\\\\\\\n",
    "X_4: \\text{Predictor variable}\n",
    "$$\n",
    "\n",
    "and \n",
    "\n",
    "$$\n",
    "a: \\text{intercept}\\\\\\\\\n",
    "b_1: \\text{coefficients of} X_1\\\\\\\\\n",
    "b_2: \\text{coefficients of} X_2\\\\\\\\\n",
    "b_3: \\text{coefficients of} X_3\\\\\\\\\n",
    "b_4: \\text{coefficients of} X_4\\\\\\\\\n",
    "$$\n",
    "\n",
    "the linear regression line $\\hat{Y}$ is given by\n",
    "$$\n",
    "\\hat{Y} = a + b_1 X_1 + b_2 X_2 + b_3 X_3 + b_4 X_4\n",
    "$$\n"
   ]
  },
  {
   "cell_type": "markdown",
   "metadata": {},
   "source": [
    "#### Creating a multiple linear regression model \n",
    "From the previous lab we know that other good predictors of price could be:\n",
    "- Horsepower\n",
    "- Curb-weight\n",
    "- Engine-size\n",
    "- Highway-mpg\n",
    "\n",
    "Let's develop a model using these variables as the predictor variables. Start by creating a 2D array `Z` with the columns `horsepower`, `curb-weight`, `engine-size`, and `highway-mpg`. *Hint: remember your double brackets*"
   ]
  },
  {
   "cell_type": "code",
   "execution_count": null,
   "metadata": {},
   "outputs": [],
   "source": []
  },
  {
   "cell_type": "markdown",
   "metadata": {},
   "source": [
    "Create a linear regression model `lm2`. Fit the linear model using `Z` and the `price` of the vehicle as `Y`. "
   ]
  },
  {
   "cell_type": "code",
   "execution_count": null,
   "metadata": {},
   "outputs": [],
   "source": []
  },
  {
   "cell_type": "markdown",
   "metadata": {},
   "source": [
    "What is the value of the intercept? What is the value of the 4 coefficients($b_1, b_2, b_3, b_4$)?"
   ]
  },
  {
   "cell_type": "code",
   "execution_count": null,
   "metadata": {},
   "outputs": [],
   "source": []
  },
  {
   "cell_type": "markdown",
   "metadata": {},
   "source": [
    "So, what is the final estimated model we get?\n",
    "\n",
    "Plugging in the actual values we get: "
   ]
  },
  {
   "cell_type": "code",
   "execution_count": null,
   "metadata": {},
   "outputs": [],
   "source": []
  },
  {
   "cell_type": "markdown",
   "metadata": {},
   "source": [
    "For a vehicle with horsepower of 70, curb-weight of 2000, engine-size of 98, and highway-mpg of 36, what is the predicted price? Do your results differ from your second simple linear regression model only based on engine-size?"
   ]
  },
  {
   "cell_type": "code",
   "execution_count": null,
   "metadata": {},
   "outputs": [],
   "source": []
  },
  {
   "cell_type": "markdown",
   "metadata": {},
   "source": [
    "#### Creating a new multiple linear regression model\n",
    "Let's create and train a multiple linear regression model `lm3` where the response variable is `price`, and the predictor variable is `normalized-losses` and  `highway-mpg`. Create and fit the model, then print the intercept and coefficients of the model."
   ]
  },
  {
   "cell_type": "code",
   "execution_count": null,
   "metadata": {},
   "outputs": [],
   "source": []
  },
  {
   "cell_type": "markdown",
   "metadata": {},
   "source": [
    "For a vehicle with normalized losses of 25 and highway-mpg of 36, what is the predicted price using this model?"
   ]
  },
  {
   "cell_type": "code",
   "execution_count": null,
   "metadata": {},
   "outputs": [],
   "source": []
  },
  {
   "cell_type": "markdown",
   "metadata": {},
   "source": [
    "## Model Evaluation Using Visualization\n",
    "Now that we've developed some models, how do we evaluate our models and choose the best one? One way to do this is by using a visualization. \n",
    "\n",
    "Like the last lab, we are going to use the package `seaborn`. Import the package with `import seaborn as sns`."
   ]
  },
  {
   "cell_type": "code",
   "execution_count": null,
   "metadata": {},
   "outputs": [],
   "source": []
  },
  {
   "cell_type": "markdown",
   "metadata": {},
   "source": [
    "### Regression Plot\n",
    "When it comes to simple linear regression, one way to visualize the fit of our model is by using **regression plots**.\n",
    "\n",
    "This plot will show a combination of scattered data points(a scatter plot), as well as the fitted linear regression line going through the data. This will give use a reasonable estimate of the relationship between the two variables, the strength of the correlation, as well as the direction (positive or negative) correlation.\n"
   ]
  },
  {
   "cell_type": "markdown",
   "metadata": {},
   "source": [
    "#### Visualizing highway-mpg as a predictor of price\n",
    "Let's visualize `highway-mpg` as potential predictor variable of price. We'll want to use seaborn's `regplot()` function to create our plot. Since seaborn is built on matplotlib, the functions are the same to change axis limits, titles, etc. \n",
    "\n",
    "```\n",
    "sns.regplot(x=\"highway-mpg\", y=\"price\", data=df)\n",
    "plt.ylim(0,)\n",
    "```"
   ]
  },
  {
   "cell_type": "code",
   "execution_count": null,
   "metadata": {},
   "outputs": [],
   "source": []
  },
  {
   "cell_type": "markdown",
   "metadata": {},
   "source": [
    "We can see from this plot that `price` is negatively correlated to `highway-mpg`, since the regression slope is negative.\n",
    "\n",
    "One thing to keep in mind when looking at a regression plot is to pay attention to **how scattered the data points are around the regression line.** This will give you a good indication of the variance of the data and whether a linear model would be the best fit or not. If the data is too far off from the line, this linear model might not be the best model for this data.\n",
    "\n",
    "Thinking back to our last lab, we made these same plots to determine these same plots to determine how effective of a predictor a single variable would be. "
   ]
  },
  {
   "cell_type": "markdown",
   "metadata": {},
   "source": [
    "### Residual Plot\n",
    "\n",
    "A good way to visualize the variance of the data is to use a residual plot.\n",
    "\n",
    "What is a **residual**?\n",
    "\n",
    "The difference between the observed(actual) value $Y$ and the predicted value $\\hat{y}$ is called the residual $e$. When we look at a regression plot, the residual is the distance from the data point to the fitted regression line.\n",
    "\n",
    "So what is a **residual plot**?\n",
    "\n",
    "A residual plot is a graph that shows the residuals on the vertical y-axis and the independent variable on the horizontal x-axis.\n",
    "\n",
    "What do we pay attention to when looking at a residual plot?\n",
    "\n",
    "We look at the spread of the residuals:\n",
    "- If the points in a residual plot are **randomly spread out around the x-axis**, then a **linear model is appropriate** for the data.\n",
    "\n",
    "Why is that? Randomly spread out residuals means that the variance is constant, and thus the linear model is a good fit for this data.\n",
    "\n",
    "To make a residual plot of highway-mpg, we use:\n",
    "```\n",
    "sns.residplot(x=df['highway-mpg'], y=df['price'])\n",
    "plt.show()\n",
    "```"
   ]
  },
  {
   "cell_type": "code",
   "execution_count": null,
   "metadata": {},
   "outputs": [],
   "source": []
  },
  {
   "cell_type": "markdown",
   "metadata": {},
   "source": [
    "What is this plot telling us? Is a linear model appropriate for this data?"
   ]
  },
  {
   "cell_type": "raw",
   "metadata": {},
   "source": []
  },
  {
   "cell_type": "markdown",
   "metadata": {},
   "source": [
    "### Visualizing Multiple Linear Regression\n",
    "How do we visualize a model for multiple linear regression? This gets a bit more complicated because you can't visualize it with regression or residual plot.\n",
    "\n",
    "One way to look at the fit of the model is by looking at the **distribution plot**. We can look at the distribution of the fitted values that result from the model and compare it to the distribution of the actual values.\n",
    "\n",
    "Let's use model `lm2` with $X$ predictors horsepower, curb-weight, engine-size, and highway-mpg stored in variable `Z`. First, compute the $\\hat{Y}$ values for `Z` and store them."
   ]
  },
  {
   "cell_type": "code",
   "execution_count": null,
   "metadata": {},
   "outputs": [],
   "source": []
  },
  {
   "cell_type": "markdown",
   "metadata": {},
   "source": [
    "To make a distribution plot, we want to use seaborn's `kdeplot()`. Use this code to make the plot, **then** use matplotlib functions to add x and y labels, a legend, and a title. \n",
    "\n",
    "```\n",
    "sns.kdeplot(data=df['price'], color=\"r\", label=\"Actual Value\")\n",
    "sns.kdeplot(data=yh, color=\"b\", label=\"Fitted Values\")\n",
    "\n",
    "```"
   ]
  },
  {
   "cell_type": "code",
   "execution_count": null,
   "metadata": {},
   "outputs": [],
   "source": []
  },
  {
   "cell_type": "markdown",
   "metadata": {},
   "source": [
    "We can see that the fitted values are reasonably close to the actual values since the two distributions overlap a bit. However, there is definitely some room for improvement."
   ]
  },
  {
   "cell_type": "markdown",
   "metadata": {},
   "source": [
    "## Polynomial Regression and Pipelines\n",
    "\n",
    "**Polynomial regression** is a particular case of the general linear regression model or multiple linear regression models. We get non-linear relationships by squaring or setting higher-order terms of the predictor variables. There are different orders of polynomial regression:\n",
    "\n",
    "- **Quadratic - 2nd Order**: $\\hat{Y} = a + b_1 X + b_2 X^2$\n",
    "- **Cubic - 3rd Order**: $\\hat{Y} = a + b_1 X + b_2 X^2 + b_3 X^3$\n",
    "- **Higher Order**: $\\hat{Y} = a + b_1 X + b_2 X^2 + b_3 X^3 + ...$\n",
    "\n",
    "### Polynomial regression of highway-mpg\n",
    "\n",
    "We saw earlier that a linear model did not provide the best fit while using \"highway-mpg\" as the predictor variable. Let's see if we can try fitting a *cubic* polynomial model to the data instead.\n",
    "\n",
    "Let's start by getting our $X$ and $Y$ variables sorted. Set `a` to the `highway-mpg` column and `a` to the `price` column. Don't worrk about making `a` 2D this time. "
   ]
  },
  {
   "cell_type": "code",
   "execution_count": null,
   "metadata": {},
   "outputs": [],
   "source": []
  },
  {
   "cell_type": "markdown",
   "metadata": {},
   "source": [
    "To fit our polynomial regression line, we are going to use numpy's `polyfit(...)` function with parameters `a`, `b`, and 3(since we want to make a cubic model). `polyfit()` will return a function, which we need to save as a variable. To get our model, we need to run it through numpy's `poly1d(...)` which will take your polynomial regression line in as a varaible. Save it as variable `p` and print the result to get your line of best fit."
   ]
  },
  {
   "cell_type": "code",
   "execution_count": null,
   "metadata": {},
   "outputs": [],
   "source": []
  },
  {
   "cell_type": "markdown",
   "metadata": {},
   "source": [
    "Using the provided function, plot the polynomial fit line you just created.\n",
    "```\n",
    "def plot_poly(model, independent_variable, dependent_variable, xlabel, ylabel, plot_title):\n",
    "    x_new = np.linspace(15, 55, 100)\n",
    "    y_new = model(x_new)\n",
    "\n",
    "    plt.plot(independent_variable, dependent_variable, '.', x_new, y_new, '-')\n",
    "    plt.title(plot_title)\n",
    "    ax = plt.gca()\n",
    "    ax.set_facecolor((0.898, 0.898, 0.898))\n",
    "    fig = plt.gcf()\n",
    "    plt.xlabel(xlabel)\n",
    "    plt.ylabel(ylabel)\n",
    "\n",
    "    plt.show()\n",
    "```"
   ]
  },
  {
   "cell_type": "code",
   "execution_count": null,
   "metadata": {},
   "outputs": [],
   "source": []
  },
  {
   "cell_type": "markdown",
   "metadata": {},
   "source": [
    "We can already see from plotting that this polynomial model performs better than the linear model. This is because the generated polynomial function  \"hits\" more of the data points."
   ]
  },
  {
   "cell_type": "markdown",
   "metadata": {},
   "source": [
    "#### Let's try an another order model!\n",
    "Using `np.polyfit()` and `np.poly1d()` just like above, fit and plot a new **11th order** model."
   ]
  },
  {
   "cell_type": "code",
   "execution_count": null,
   "metadata": {},
   "outputs": [],
   "source": []
  },
  {
   "cell_type": "markdown",
   "metadata": {},
   "source": [
    "That looks pretty good, but we need to watch out for **overfitting**. Overfitting occurs when the model it fit too closely to the *training data*, so it performs poorly with real data. It's likely that our cubic model will actually perform better in practice because of the randomness in the real world. Although, **underfit** models that are too simple to accurately predict results aren't any good either! We didn't do it with this example, but this is why it is important to separate out some of your original data as *testing data* that you can use to test your model after you create it. \n",
    "\n",
    "Later in this lab, we will do some statistical tests to assess the quality of our model and compare the different models we made. "
   ]
  },
  {
   "cell_type": "markdown",
   "metadata": {},
   "source": [
    "### Polynomial regression with multiple variables \n",
    "The expression for multivariate polynomial functions can get complicated! For example, the standard form for a second-order polynomial with two variables is given by:\n",
    "$$\n",
    "\\hat{y} = a + b_1 X_1 +b_2 X_2 +b_3 X_1 X_2+b_4 X_1^2+b_5 X_2^2\n",
    "$$\n",
    "\n",
    "THis would be pretty complicated to do by hand, but `scikit-learn` helps us to create **pipelines** to automate some of this process. Let's try to make a second-order polynomial for the same 4 features as our first multiple linear regression line `lm2`. The first thing we need to do is import the correct library for polynomial features: `from sklearn.preprocessing import PolynomialFeatures` "
   ]
  },
  {
   "cell_type": "code",
   "execution_count": null,
   "metadata": {},
   "outputs": [],
   "source": []
  },
  {
   "cell_type": "markdown",
   "metadata": {},
   "source": [
    "For this model, we want our final polynomial to be of degree 2. So, we need to create a new object `pr` using the constructor `PolynomialFeatures(degree=#)`."
   ]
  },
  {
   "cell_type": "code",
   "execution_count": null,
   "metadata": {},
   "outputs": [],
   "source": []
  },
  {
   "cell_type": "markdown",
   "metadata": {},
   "source": [
    "Now that we have our `PolynomialFeatures` object set up, we can use the `fit_transform(...)` function with parameter `Z`. `Z` should be the 2D array we made eariler with columns `horsepower`, `curb-weight`, `engine-size`, and `highway-mpg`. Make sure to store the returned array in a new variable `Z_pr`."
   ]
  },
  {
   "cell_type": "code",
   "execution_count": null,
   "metadata": {},
   "outputs": [],
   "source": []
  },
  {
   "cell_type": "markdown",
   "metadata": {},
   "source": [
    "But what did `fit_transform()` actually do? If we look the shape of our original `Z` (with `Z.shape`) we should there are 201 samples and 4 features. Our new `Z_pr` after the transformation should have there are 201 samples and 15 features.\n",
    "\n",
    "For a smaller array the transformation would do something like this. "
   ]
  },
  {
   "attachments": {
    "image.png": {
     "image/png": "[encoded data removed]"
    }
   },
   "cell_type": "markdown",
   "metadata": {},
   "source": [
    "![image.png](attachment:image.png)"
   ]
  },
  {
   "cell_type": "markdown",
   "metadata": {},
   "source": [
    "Essentially, we need to make columns that are multiples of all of our factors so we can weight them using traditional methods. At the end we will end up with coefficents for each of our factors individually and the linear combination of all of the factors. \n",
    "\n",
    "Check the shape of `Z` and `Z_pr` here."
   ]
  },
  {
   "cell_type": "code",
   "execution_count": null,
   "metadata": {},
   "outputs": [],
   "source": []
  },
  {
   "cell_type": "markdown",
   "metadata": {},
   "source": [
    "### Pipeline\n",
    "\n",
    "**There is nothing for you code in this Pipeline section, but please read it!!!**\n",
    "\n",
    "\n",
    "Data pipelines simplify the steps of processing data. We will use the module `Pipeline` from `sklearn` to build ours. Our pipeline will use the `PolynomialFeatures` module we just talked about and `LinearRegression` from earlier as well as `StandardScalar`. "
   ]
  },
  {
   "cell_type": "code",
   "execution_count": null,
   "metadata": {},
   "outputs": [],
   "source": [
    "from sklearn.pipeline import Pipeline\n",
    "from sklearn.preprocessing import StandardScaler"
   ]
  },
  {
   "cell_type": "markdown",
   "metadata": {},
   "source": [
    "We create the pipeline by creating a list of tuples including the name of the model or estimator and its corresponding constructor(ex. `('scale',StandardScaler())`). In our list, we want our three items to be in the order StandardScaler, PolynomialFeatures, and LinearRegression.\n"
   ]
  },
  {
   "cell_type": "code",
   "execution_count": null,
   "metadata": {},
   "outputs": [],
   "source": [
    "Input=[('scale',StandardScaler()), ('polynomial', PolynomialFeatures(include_bias=False)), ('model',LinearRegression())]"
   ]
  },
  {
   "cell_type": "markdown",
   "metadata": {},
   "source": [
    "Then, we input the list we just made as an argument to the pipeline constructor."
   ]
  },
  {
   "cell_type": "code",
   "execution_count": null,
   "metadata": {},
   "outputs": [],
   "source": [
    "pipe=Pipeline(Input)\n",
    "pipe"
   ]
  },
  {
   "cell_type": "markdown",
   "metadata": {},
   "source": [
    "First, we convert the data type `Z` to type float to avoid conversion warnings that may appear as a result of `StandardScaler` taking float inputs.\n",
    "\n",
    "Then, we can normalize the data, perform a transform, and fit the model simultaneously.\n"
   ]
  },
  {
   "cell_type": "code",
   "execution_count": null,
   "metadata": {},
   "outputs": [],
   "source": [
    "Z = Z.astype(float)\n",
    "pipe.fit(Z,y)"
   ]
  },
  {
   "cell_type": "markdown",
   "metadata": {},
   "source": [
    "Similarly,  we can normalize the data, perform a transform, and produce a prediction  simultaneously."
   ]
  },
  {
   "cell_type": "code",
   "execution_count": null,
   "metadata": {},
   "outputs": [],
   "source": [
    "ypipe=pipe.predict(Z)\n",
    "ypipe[0:4]"
   ]
  },
  {
   "cell_type": "markdown",
   "metadata": {},
   "source": [
    "### Measures for In-Sample Evaluation\n",
    "\n",
    "Ok, so we made all these models. Now how do we determine what the best model is?\n",
    "\n",
    "When evaluating our models, not only do we want to visualize the results, but we also want a quantitative measure to determine how accurate the model is.\n",
    "\n",
    "Two very important measures that are often used in Statistics to determine the accuracy of a model are:\n",
    "1. **$R^2$ / R-squared**\n",
    "2. **Mean Squared Error (MSE)**\n",
    "\n",
    "**R-squared**\n",
    "\n",
    "R-squared, also known as the *coefficient of determination*, is a measure to indicate how close the data is to the fitted regression line.\n",
    "\n",
    "The value of the R-squared is the percentage of variation of the response variable ($Y$) that is explained by a linear model.\n",
    "\n",
    "**Mean Squared Error (MSE)**\n",
    "\n",
    "The Mean Squared Error measures the average of the squares of errors. That is, the difference between actual value ($Y$) and the estimated value ($\\hat{Y}$)\n",
    "\n",
    "\n",
    "#### Model 1: Simple Linear Regression\n",
    "\n",
    "Let's calculate the $R^2$ value for our first simple linear regression model, predicting 'price' from 'highway-mpg'. Our model is named `lm` with data 'highway-mpg'(`x`) and 'price'(`y`). So to fit the model we can use `lm.fit(x,y)` again. Then to get the $R^2$ value, we can use the function `.score()` the the same parameters."
   ]
  },
  {
   "cell_type": "code",
   "execution_count": null,
   "metadata": {},
   "outputs": [],
   "source": []
  },
  {
   "cell_type": "markdown",
   "metadata": {},
   "source": [
    "We can say that \\~49.718% of the variation of the price is explained by this simple linear model `lm` of 'highway-mpg'.\n"
   ]
  },
  {
   "cell_type": "markdown",
   "metadata": {},
   "source": [
    "Let's calculate the MSE. \n",
    "\n",
    "The first thing we need to do is make some predictions. We can predict the output i.e., $\\hat{Y}$ using the `predict()` method, where `x` is the input variable. "
   ]
  },
  {
   "cell_type": "code",
   "execution_count": null,
   "metadata": {},
   "outputs": [],
   "source": []
  },
  {
   "cell_type": "markdown",
   "metadata": {},
   "source": [
    "Now to actually calculate MSE. \n",
    "\n",
    "First import the function `mean_squared_error` from the module `sklearn.metrics`*. Then, use the function `.mean_squared_error(y, y_hat)` which will return the MSE value. `y_hat` should be the list you just got in the last cell."
   ]
  },
  {
   "cell_type": "code",
   "execution_count": null,
   "metadata": {},
   "outputs": [],
   "source": []
  },
  {
   "cell_type": "markdown",
   "metadata": {},
   "source": [
    "#### Model 2: Multiple Linear Regression\n",
    "\n",
    "Let's calculate the $R^2$ for our first multiple linear regression `lm2` and it's predictor data(`Z`) and 'price'(`y`):"
   ]
  },
  {
   "cell_type": "code",
   "execution_count": null,
   "metadata": {},
   "outputs": [],
   "source": []
  },
  {
   "cell_type": "markdown",
   "metadata": {},
   "source": [
    "We can say that \\~80.944 % of the variation of price is explained by this multiple linear regression with \"horsepower, \"curb-weight\", \"engine-size\", and \"highway-mpg\"\n"
   ]
  },
  {
   "cell_type": "markdown",
   "metadata": {},
   "source": [
    "Let's calculate the MSE.\n",
    "\n",
    "First make a prediction then use the `mean_squared_error()` function.\n"
   ]
  },
  {
   "cell_type": "code",
   "execution_count": null,
   "metadata": {},
   "outputs": [],
   "source": []
  },
  {
   "cell_type": "markdown",
   "metadata": {},
   "source": [
    "#### Model 3: Polynomial Fit\n",
    "\n",
    "Let's calculate the $R^2$. Since we created our cubic polynomial using a different function, we will need a more robust $R^2$ calculator. Let's use `r2_score` from the module `sklearn.metrics`.\n"
   ]
  },
  {
   "cell_type": "code",
   "execution_count": null,
   "metadata": {},
   "outputs": [],
   "source": []
  },
  {
   "cell_type": "markdown",
   "metadata": {},
   "source": [
    "Now, we can apply the function to get the value of $R^2$ like this `r2_score(b, p(a))`(assuming `a` and `b` are still the same input data and `p` is the name of your model)."
   ]
  },
  {
   "cell_type": "code",
   "execution_count": null,
   "metadata": {},
   "outputs": [],
   "source": []
  },
  {
   "cell_type": "markdown",
   "metadata": {},
   "source": [
    "We can say that \\~67.427 % of the variation of price is explained by this polynomial fit.\n"
   ]
  },
  {
   "cell_type": "markdown",
   "metadata": {},
   "source": [
    "We can also calculate the MSE with the name function as before."
   ]
  },
  {
   "cell_type": "code",
   "execution_count": null,
   "metadata": {},
   "outputs": [],
   "source": []
  },
  {
   "cell_type": "markdown",
   "metadata": {},
   "source": [
    "### Prediction and Decision Making\n",
    "\n",
    "#### Determining a Good Model Fit\n",
    "\n",
    "Now that we have visualized the different models, and generated the R-squared and MSE values for the fits, how do we determine a good model fit?\n",
    "\n",
    "\n",
    "**What is a good R-squared value?**\n",
    "- When comparing models, *the model with the higher R-squared value is a better fit* for the data.\n",
    "\n",
    "\n",
    "**What is a good MSE?**\n",
    "- When comparing models, *the model with the smallest MSE value is a better fit* for the data.\n"
   ]
  },
  {
   "cell_type": "markdown",
   "metadata": {},
   "source": [
    "#### Let's take a look at the values for the different models.\n",
    "\n",
    "Simple Linear Regression: Using Highway-mpg as a Predictor Variable of Price.\n",
    "- R-squared:\n",
    "- MSE:\n",
    "\n",
    "Multiple Linear Regression: Using Horsepower, Curb-weight, Engine-size, and Highway-mpg as Predictor Variables of Price.\n",
    "- R-squared:\n",
    "- MSE:\n",
    "\n",
    "Polynomial Fit: Using Highway-mpg as a Predictor Variable of Price.\n",
    "- R-squared:\n",
    "- MSE:"
   ]
  },
  {
   "cell_type": "markdown",
   "metadata": {},
   "source": [
    "#### Simple Linear Regression Model (SLR) vs Multiple Linear Regression Model (MLR)\n",
    "Usually, the more variables you have, the better your model is at predicting, but this is not always true. Sometimes you may not have enough data, you may run into numerical problems, or many of the variables may not be useful and even act as noise. As a result, you should always check the MSE and $R^2$.\n",
    "\n",
    "In order to compare the results of the MLR vs SLR models, we look at a combination of both the R-squared and MSE to make the best conclusion about the fit of the model.\n",
    "- **R-squared**: \n",
    "- **MSE**: \n",
    "\n",
    "**Conclusion**:"
   ]
  },
  {
   "cell_type": "markdown",
   "metadata": {},
   "source": [
    "#### Simple Linear Model (SLR) vs. Polynomial Fit\n",
    "- **R-squared**: \n",
    "- **MSE**: \n",
    "\n",
    "**Conclusion**:"
   ]
  },
  {
   "cell_type": "markdown",
   "metadata": {},
   "source": [
    "### Multiple Linear Regression (MLR) vs. Polynomial Fit\n",
    "- **R-squared**: \n",
    "- **MSE**: \n",
    "\n",
    "**Conclusion**:"
   ]
  },
  {
   "cell_type": "markdown",
   "metadata": {},
   "source": [
    "## Conclusion\n",
    "\n",
    "Comparing these three models, we conclude that the ________ model is the best model to be able to predict price from our dataset. This makes sense because _____."
   ]
  }
 ],
 "metadata": {
  "kernelspec": {
   "display_name": "base",
   "language": "python",
   "name": "python3"
  },
  "language_info": {
   "codemirror_mode": {
    "name": "ipython",
    "version": 3
   },
   "file_extension": ".py",
   "mimetype": "text/x-python",
   "name": "python",
   "nbconvert_exporter": "python",
   "pygments_lexer": "ipython3",
   "version": "3.11.5"
  }
 },
 "nbformat": 4,
 "nbformat_minor": 2
}
