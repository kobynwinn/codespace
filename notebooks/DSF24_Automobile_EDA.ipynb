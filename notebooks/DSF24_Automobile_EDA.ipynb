{
 "cells": [
  {
   "cell_type": "markdown",
   "metadata": {},
   "source": [
    "# Lab 7.2: Exploratory Data Analysis with Automobile Dataset\n",
    "\n",
    "For this dataset, we will try to build a model to determine the price of a vehicle. For this lab, we will complete the data cleaning and exploratory data analysis required to build our model. Cleaning the dataset and identifying features which relate to vehicle price is critical to building a model to answer our question. A future lab will use our findings here to actually create the model. This notebook contains part 2 of this lab and is worth 4 points.\n",
    "\n",
    "**Rubric**\n",
    "- 4 points: Complete the Jupyter Notebook as described. Analysis and written portions are completed in a professional manner. Use complete sentences and correct grammar.\n",
    "- 3 points: Completes only some of the Jupyter Notebook as described, or submission does not meet professionalism standards.\n",
    "- 2 points: Missing or incomplete\n",
    "\n",
    "**This is the second part of the lab, please complete part 1 first.**"
   ]
  },
  {
   "cell_type": "markdown",
   "metadata": {},
   "source": [
    "## Getting the data \n",
    "Import `pandas` and use `.read_csv()` to create your dataframe from the CSV you just cleaned. Print the first 10 rows to make sure you have the right dataframe."
   ]
  },
  {
   "cell_type": "code",
   "execution_count": null,
   "metadata": {},
   "outputs": [],
   "source": []
  },
  {
   "cell_type": "markdown",
   "metadata": {},
   "source": [
    "## Exploratory Data Analysis\n",
    "\n",
    "The question we want to investigate is:  **What are the main characteristics that have the most impact on the car price?**\n",
    "\n",
    "To do so, let's look at some of our different features. \n",
    "\n",
    "For this lab, we will use the library  `seaborn` in addition to `matplotlib.pyplot` and `numpy`. This will allow use to make plots of the relationship between variables, and see the variability on our plots on the same graph. seaborn is built on matplotlib and the two libraries interact. Typically, we import seaborn as `sns`."
   ]
  },
  {
   "cell_type": "code",
   "execution_count": null,
   "metadata": {},
   "outputs": [],
   "source": []
  },
  {
   "cell_type": "markdown",
   "metadata": {},
   "source": [
    "### How to choose the right visualization method?\n",
    "When visualizing individual variables, it is important to first understand what type of variable you are dealing with. This will help us find the right visualization method for that variable. Remember `.dtypes` from the last notebook."
   ]
  },
  {
   "cell_type": "code",
   "execution_count": null,
   "metadata": {},
   "outputs": [],
   "source": []
  },
  {
   "cell_type": "markdown",
   "metadata": {},
   "source": [
    "We can calculate the correlation between variables  of type \"int64\" or \"float64\" using the pandas method `.corr()`. *This should automatically ignore non-numeric columns, but if it doesn't you can create a dataframe of only numeric columns with `df.select_dtypes(include=['int', 'float'])`*"
   ]
  },
  {
   "cell_type": "code",
   "execution_count": null,
   "metadata": {},
   "outputs": [],
   "source": []
  },
  {
   "cell_type": "markdown",
   "metadata": {},
   "source": [
    "The diagonal elements are always one; we will study correlation more precisely Pearson correlation in-depth at the end of the notebook. The basic idea is that a **correlation coefficient** is a numerical measure of the linear relationship between two variables. 1 is the strongest possible positive correlation, -1 is the strongest possible negative correlation, and 0 is no correlation.\n",
    "\n",
    "Find the correlation between the following columns: `bore`, `stroke`, `compression-ratio`, and `horsepower`. *Hint: if you would like to select those columns, use the following syntax: `df[['bore','stroke','compression-ratio','horsepower']]`*"
   ]
  },
  {
   "cell_type": "code",
   "execution_count": null,
   "metadata": {},
   "outputs": [],
   "source": []
  },
  {
   "cell_type": "markdown",
   "metadata": {},
   "source": [
    "#### Continuous numerical variables\n",
    "\n",
    "Continuous numerical variables are variables that may contain any value within some range. They can be of type \"int64\" or \"float64\". A great way to visualize these variables is by using scatterplots with fitted lines.\n",
    "\n",
    "In order to start understanding the (linear) relationship between an individual variable and the price, we can use `regplot` which plots the scatterplot plus the fitted regression line for the data. This will be useful later on for visualizing the fit of the simple linear regression model we will build in the next lab as well. \n",
    "\n",
    "Let's see several examples of different linear relationships.\n",
    "\n",
    "\n",
    "**Strong Linear Relationship**\n",
    "Let's make the scatterplot of `engine-size` and `price`. We are going to use seaborn's `regplot()` like this:\n",
    "`sns.regplot(x=\"engine-size\", y=\"price\", data=df)`. Use the `plt` functions we know to start the y axis at 0 and add a title and axis labels."
   ]
  },
  {
   "cell_type": "code",
   "execution_count": null,
   "metadata": {},
   "outputs": [],
   "source": []
  },
  {
   "cell_type": "markdown",
   "metadata": {},
   "source": [
    "As the engine-size goes up, the price goes up: this indicates a **strong positive correlation** between these two variables. Engine size seems like a pretty good predictor of price since the regression line is almost a perfect diagonal line.\n",
    "\n",
    "We can examine the correlation between 'engine-size' and 'price' and see that it's approximately 0.87 with `corr()`."
   ]
  },
  {
   "cell_type": "code",
   "execution_count": null,
   "metadata": {},
   "outputs": [],
   "source": []
  },
  {
   "cell_type": "markdown",
   "metadata": {},
   "source": [
    "Now, let's find the scatterplot of `highway-mpg` and `price`. Make sure start the y axis at 0 and add a title and axis labels."
   ]
  },
  {
   "cell_type": "code",
   "execution_count": null,
   "metadata": {},
   "outputs": [],
   "source": []
  },
  {
   "cell_type": "markdown",
   "metadata": {},
   "source": [
    "As highway-mpg goes up, the price goes down. This indicates an **strong inverse/negative correlation** between these two variables. Highway MPG could potentially be a predictor of price.\n",
    "\n",
    "Now, look at the numerical correlation between \"highway-mpg\" and \"price\"."
   ]
  },
  {
   "cell_type": "code",
   "execution_count": null,
   "metadata": {},
   "outputs": [],
   "source": []
  },
  {
   "cell_type": "markdown",
   "metadata": {},
   "source": [
    "**Weak Linear Relationship**\n",
    "Let's see if \"peak-rpm\" is a predictor variable of \"price\" by making a plot.\n"
   ]
  },
  {
   "cell_type": "code",
   "execution_count": null,
   "metadata": {},
   "outputs": [],
   "source": []
  },
  {
   "cell_type": "markdown",
   "metadata": {},
   "source": [
    "Peak RPM does not seem like a good predictor of the price at all since the regression line is close to horizontal. Also, the data points are very scattered and far from the fitted line, showing lots of variability. Therefore, it's not a reliable variable.\n",
    "\n",
    "Let's look at the numerical correlation between the variables."
   ]
  },
  {
   "cell_type": "code",
   "execution_count": null,
   "metadata": {},
   "outputs": [],
   "source": []
  },
  {
   "cell_type": "markdown",
   "metadata": {},
   "source": [
    "Let's find the numerical correlation between x=\"stroke\" and y=\"price\"."
   ]
  },
  {
   "cell_type": "code",
   "execution_count": null,
   "metadata": {},
   "outputs": [],
   "source": []
  },
  {
   "cell_type": "markdown",
   "metadata": {},
   "source": [
    "Given the correlation results between \"price\" and \"stroke\", do we expect a linear relationship?\n",
    "We verify your results using the function `regplot()`."
   ]
  },
  {
   "cell_type": "code",
   "execution_count": null,
   "metadata": {},
   "outputs": [],
   "source": []
  },
  {
   "cell_type": "markdown",
   "metadata": {},
   "source": [
    "#### Categorical variables\n",
    "\n",
    "These are variables that describe a 'characteristic' of a data unit, and are selected from a small group of categories. The categorical variables can have the type \"object\" or \"int64\". A good way to visualize categorical variables is by using boxplots.\n",
    "\n",
    "We are going to use seaborn's `boxplot()` like this: `sns.boxplot(x=..., y=..., data=df)`."
   ]
  },
  {
   "cell_type": "markdown",
   "metadata": {},
   "source": [
    "Let's look at the relationship between \"body-style\" and \"price\".\n"
   ]
  },
  {
   "cell_type": "code",
   "execution_count": null,
   "metadata": {},
   "outputs": [],
   "source": []
  },
  {
   "cell_type": "markdown",
   "metadata": {},
   "source": [
    "We see that the distributions of price between the different body-style categories have a significant overlap, so body-style would not be a good predictor of price. \n",
    "\n",
    "\n",
    "What about another column? Let's examine engine \"engine-location\" and \"price\" with another boxplot."
   ]
  },
  {
   "cell_type": "code",
   "execution_count": null,
   "metadata": {},
   "outputs": [],
   "source": []
  },
  {
   "cell_type": "markdown",
   "metadata": {},
   "source": [
    "Here we see that the distribution of price between these two engine-location categories, front and rear, are distinct enough to take engine-location as a potential good predictor of price.\n",
    "\n",
    "Let's do the same for \"drive-wheels\" and \"price\".\n"
   ]
  },
  {
   "cell_type": "code",
   "execution_count": null,
   "metadata": {},
   "outputs": [],
   "source": []
  },
  {
   "cell_type": "markdown",
   "metadata": {},
   "source": [
    "<p>Here we see that the distribution of price between the different drive-wheels categories differs. As such, drive-wheels could potentially be a predictor of price.</p>\n"
   ]
  },
  {
   "cell_type": "markdown",
   "metadata": {},
   "source": [
    "#### Descriptive statistical analysis\n",
    "Let's first take a look at the variables by utilizing a description method.\n",
    "\n",
    "The `describe()` function automatically computes basic statistics for all continuous variables. Any NaN values are automatically skipped in these statistics.\n",
    "\n",
    "This will show:\n",
    "- the count of that variable\n",
    "- the mean\n",
    "- the standard deviation (std)\n",
    "- the minimum value\n",
    "- the IQR (Interquartile Range: 25%, 50% and 75%)\n",
    "- the maximum value\n",
    "\n",
    "Use `describe()` in our dataframe here."
   ]
  },
  {
   "cell_type": "code",
   "execution_count": null,
   "metadata": {},
   "outputs": [],
   "source": []
  },
  {
   "cell_type": "markdown",
   "metadata": {},
   "source": [
    "The default setting of `describe()` skips variables of type `object`. We can apply the function on the variables of type `object` by including them specifically with `describe(include=['object'])`."
   ]
  },
  {
   "cell_type": "code",
   "execution_count": null,
   "metadata": {},
   "outputs": [],
   "source": []
  },
  {
   "cell_type": "markdown",
   "metadata": {},
   "source": [
    "#### Value counts\n",
    "Value counts is a good way of understanding how many units of each characteristic/variable we have. We can apply the `value_counts()` function on the column \"engine-location\". Don’t forget the function `value_counts()` only works on pandas series, not pandas dataframes. As a result, we only include one bracket `df['engine-location']` not two brackets `df[['engine-location']]`."
   ]
  },
  {
   "cell_type": "code",
   "execution_count": null,
   "metadata": {},
   "outputs": [],
   "source": []
  },
  {
   "cell_type": "markdown",
   "metadata": {},
   "source": [
    "We can convert the series to a dataframe with the function `.to_frame()`. Create the dataframe \"engine_location_counts\" to store the `value_counts()` of \"engine-location\"."
   ]
  },
  {
   "cell_type": "code",
   "execution_count": null,
   "metadata": {},
   "outputs": [],
   "source": []
  },
  {
   "cell_type": "markdown",
   "metadata": {},
   "source": [
    "<p>After examining the value counts of the engine location, we see that engine location would not be a good predictor variable for the price. This is because we only have three cars with a rear engine and 198 with an engine in the front, so this result is skewed. Thus, we are not able to draw any conclusions about the engine location.</p>\n"
   ]
  },
  {
   "cell_type": "markdown",
   "metadata": {},
   "source": [
    "#### Basics of grouping\n",
    "\n",
    "The `groupby()` method groups data by different categories. The data is grouped based on one or several variables, and analysis is performed on the individual groups.\n",
    "\n",
    "For example, let's group by the variable \"drive-wheels\". Before we do, see that there are 3 different categories of drive wheels with the function `unique()`."
   ]
  },
  {
   "cell_type": "code",
   "execution_count": null,
   "metadata": {},
   "outputs": [],
   "source": []
  },
  {
   "cell_type": "markdown",
   "metadata": {},
   "source": [
    "If we want to know, on average, which type of drive wheel is most valuable, we can group \"drive-wheels\" and then average them.\n",
    "\n",
    "We can select the columns 'drive-wheels' nd 'price', then assign it to the dataframe \"df_1\". Then use the function `groupby()` like this `.groupby(['drive-wheels'],as_index=False)` to group by 'drive-wheels' and save our grouping in the variable `gp`. To get the mean value by group, we can use the function `.mean()` on our groupings."
   ]
  },
  {
   "cell_type": "code",
   "execution_count": null,
   "metadata": {},
   "outputs": [],
   "source": []
  },
  {
   "cell_type": "markdown",
   "metadata": {},
   "source": [
    "From our data, it seems rear-wheel drive vehicles are, on average, the most expensive, while 4-wheel and front-wheel are approximately the same in price.\n",
    "\n",
    "You can also group by multiple variables. For example, let's group by both 'drive-wheels' and 'body-style'. This groups the dataframe by the unique combination of 'drive-wheels' and 'body-style'. Create the dataframe `df_2` with the three columns we need, group by both 'drive-wheels' and 'body-style', and saving your groupings to `gp2`. Then find the mean of the groupings in `gp2` and save the dataframe to `gp2_m`."
   ]
  },
  {
   "cell_type": "code",
   "execution_count": null,
   "metadata": {},
   "outputs": [],
   "source": []
  },
  {
   "cell_type": "markdown",
   "metadata": {},
   "source": [
    "This grouped data is much easier to visualize when it is made into a pivot table. A pivot table is like an Excel spreadsheet, with one variable along the column and another along the row. We can convert the dataframe to a pivot table using the method `pivot()` to create a pivot table from the groups.\n",
    "\n",
    "In this case, we will leave the 'drive-wheels' variable as the rows of the table, and pivot 'body-style' to become the columns of the table by using the function `.pivot(index='drive-wheels',columns='body-style')` on our dataframe of means `gp2_m`. Save your pivot table in a dataframe `grouped_pivot`."
   ]
  },
  {
   "cell_type": "code",
   "execution_count": null,
   "metadata": {},
   "outputs": [],
   "source": []
  },
  {
   "cell_type": "markdown",
   "metadata": {},
   "source": [
    "Often, we won't have data for some of the pivot cells. We can fill these missing cells with the value 0, but any other value could potentially be used as well. We can use the function `.fillna(...)` with the parameter 0 on the pivot table to fill in the values."
   ]
  },
  {
   "cell_type": "code",
   "execution_count": null,
   "metadata": {},
   "outputs": [],
   "source": []
  },
  {
   "cell_type": "markdown",
   "metadata": {},
   "source": [
    "**Great!** Now we can see the average price of a vechicle based on its drive-wheels and body-style"
   ]
  },
  {
   "cell_type": "markdown",
   "metadata": {},
   "source": [
    "#### Visualize - Drive Wheels and Body Style vs. Price\n",
    "Let's use a heat map to visualize the relationship between Drive Wheels and Body Style vs Price.\n",
    "\n",
    "The heatmap plots the target variable (price) proportional to colour with respect to the variables 'drive-wheel' and 'body-style' on the vertical and horizontal axis, respectively. This allows us to visualize how the price is related to 'drive-wheel' and 'body-style'.\n",
    "\n",
    "These heatmap plots are cool but can be difficult to set up since the default labels aren't very helpful. So here is some code to make your first heatmap plot.\n",
    "```\n",
    "fig, ax = plt.subplots()\n",
    "im = ax.pcolor(grouped_pivot, cmap='RdBu')\n",
    "\n",
    "#label names\n",
    "row_labels = grouped_pivot.columns.levels[1]\n",
    "col_labels = grouped_pivot.index\n",
    "\n",
    "#move ticks and labels to the center\n",
    "ax.set_xticks(np.arange(grouped_pivot.shape[1]) + 0.5, minor=False)\n",
    "ax.set_yticks(np.arange(grouped_pivot.shape[0]) + 0.5, minor=False)\n",
    "\n",
    "#insert labels\n",
    "ax.set_xticklabels(row_labels, minor=False)\n",
    "ax.set_yticklabels(col_labels, minor=False)\n",
    "\n",
    "#rotate label if too long\n",
    "plt.xticks(rotation=90)\n",
    "\n",
    "fig.colorbar(im)\n",
    "\n",
    "plt.title(\"Heatmap of Vehicle Price by Drive Wheel and Body Style\")\n",
    "plt.xlabel(\"body style\")\n",
    "plt.ylabel(\"drive wheels\")\n",
    "plt.show()\n",
    "```\n",
    "\n"
   ]
  },
  {
   "cell_type": "code",
   "execution_count": null,
   "metadata": {},
   "outputs": [],
   "source": []
  },
  {
   "cell_type": "markdown",
   "metadata": {},
   "source": [
    "The main question we want to answer in this lab is, \"What are the main characteristics which have the most impact on the car price?\".\n",
    "\n",
    "To get a better measure of the important characteristics, we look at the correlation of these variables with the car price. In other words: how is the car price dependent on this variable?\n",
    "\n",
    "#### Correlation\n",
    "**Correlation**: a measure of the extent of interdependence between variables.\n",
    "**Causation**: the relationship between cause and effect between two variables.\n",
    "\n",
    "It is important to know the difference between these two. Correlation does not imply causation. Determining correlation is much simpler the determining causation as causation may require independent experimentation.\n",
    "\n",
    "**Pearson Correlation**\n",
    "\n",
    "There are multiple ways to quantify the relationship between two random variables, but the most relevant to us in this course will be the Pearson correlation coefficient. The *Pearson correlation coefficient* measures the linear dependence between two variables X and Y. \n",
    "\n",
    "The resulting coefficient is a value between -1 and 1 inclusive, where:\n",
    "- **1**: Perfect positive linear correlation.\n",
    "- **0**: No linear correlation, the two variables most likely do not affect each other.\n",
    "- **-1**: Perfect negative linear correlation.\n",
    "\n",
    "Pearson Correlation is the default method of the function `corr()`. Like before, we can calculate the Pearson Correlation of the of the 'int64' or 'float64'  variables. \n",
    "\n",
    "Let's run it again here. "
   ]
  },
  {
   "cell_type": "code",
   "execution_count": null,
   "metadata": {},
   "outputs": [],
   "source": []
  },
  {
   "cell_type": "markdown",
   "metadata": {},
   "source": [
    "This value can be helpful for assessing how related two variables are. But, sometimes we would like to know the significant of the correlation estimate. We might want to know what the probability is that the relationship between the two is *statistically significant*. \n",
    "\n",
    "**P-value**\n",
    "\n",
    "What is this p-value? The p-value is the probability value that the correlation between these two variables is statistically significant. \n",
    "\n",
    "Normally, we choose a significance level of 0.05, which means that we are 95% confident that the correlation between the variables is significant. Regardless of what correlation we calculate(weak, strong, etc.) we need to know how likely it is that correlation is accurate. High correlation coefficients don't necessarily guarantee high p-values. You could have a relationship with a low correlation coefficient with a high p-value and be pretty confident those two variables are not good predictors of one another. Or, you could have a relationship with a strong correlation coefficient and a low p-value and be less confident a relationship actually exists.\n",
    "\n",
    "\n",
    "Since we are using a significance level of 0.05, if\n",
    "- the p-value is $< 0.001$: we say there is strong evidence that the correlation is significant\n",
    "- the p-value is $< 0.05$: there is moderate evidence that the correlation is significant\n",
    "- the p-value is $< 0.1$: there is weak evidence that the correlation is significant\n",
    "- the p-value is $> 0.1$: there is no evidence that the correlation is significant\n",
    "\n",
    "**How do we actually use these two things?**\n",
    "\n",
    "For any two random variables, we can compute their Pearson coerrelation coefficient and the associated p-value. The Pearson correlation coefficient will tell us what relationship the two variables may have(strong positive linear, strong negative linear, weak linear, etc). Then based on the p-value, we can make a determiniation about how statistically significant that relationship is. \n",
    "\n",
    "Your conclusions will be in a similar form to: \"Since the p-value is less than or greater than ______, the correlation between variable 1 and variable 2 is ____________(from bullets above), and the linear relationship is _________ (weak, strong, somewhat strong etc./positive, negative, neither) with a correlation coefficient of ______.\" At the end of our analysis, we will be able to make some determinations about which features we think are significant and would be worth including in our model.\n",
    "\n",
    "Let's import the `stats` module from the `scipy` library. If `scipy` is not installed, you will want to use pip to add it to your environment. "
   ]
  },
  {
   "cell_type": "code",
   "execution_count": null,
   "metadata": {},
   "outputs": [],
   "source": []
  },
  {
   "cell_type": "markdown",
   "metadata": {},
   "source": [
    "#### Wheel-Base vs. Price\n",
    "Let's calculate the Pearson correlation coefficient and p-value of 'wheel-base' and 'price'. Using `stats`, we can get both by with the line: `pearson_coef, p_value = stats.pearsonr(x_column, y_column)`.\n"
   ]
  },
  {
   "cell_type": "code",
   "execution_count": null,
   "metadata": {},
   "outputs": [],
   "source": []
  },
  {
   "cell_type": "markdown",
   "metadata": {},
   "source": [
    "**Conclusion**"
   ]
  },
  {
   "cell_type": "markdown",
   "metadata": {},
   "source": [
    "#### Horsepower vs. Price\n",
    "Let's calculate the  Pearson correlation coefficient and p-value of 'horsepower' and 'price'.\n"
   ]
  },
  {
   "cell_type": "code",
   "execution_count": null,
   "metadata": {},
   "outputs": [],
   "source": []
  },
  {
   "cell_type": "markdown",
   "metadata": {},
   "source": [
    "**Conclusion**"
   ]
  },
  {
   "cell_type": "markdown",
   "metadata": {},
   "source": [
    "#### Length vs. Price\n",
    "Let's calculate the Pearson correlation coefficient and p-value of 'length' and 'price'.\n"
   ]
  },
  {
   "cell_type": "code",
   "execution_count": null,
   "metadata": {},
   "outputs": [],
   "source": []
  },
  {
   "cell_type": "markdown",
   "metadata": {},
   "source": [
    "**Conclusion**"
   ]
  },
  {
   "cell_type": "markdown",
   "metadata": {},
   "source": [
    "#### Width vs. Price\n",
    "Let's calculate the Pearson correlation coefficient and p-value of 'width' and 'price'.\n"
   ]
  },
  {
   "cell_type": "code",
   "execution_count": null,
   "metadata": {},
   "outputs": [],
   "source": []
  },
  {
   "cell_type": "markdown",
   "metadata": {},
   "source": [
    "**Conclusion**"
   ]
  },
  {
   "cell_type": "markdown",
   "metadata": {},
   "source": [
    "#### Curb-weight vs. Price\n",
    "Let's calculate the Pearson correlation coefficient and p-value of 'curb-weigth' and 'price'.\n"
   ]
  },
  {
   "cell_type": "code",
   "execution_count": null,
   "metadata": {},
   "outputs": [],
   "source": []
  },
  {
   "cell_type": "markdown",
   "metadata": {},
   "source": [
    "**Conclusion**"
   ]
  },
  {
   "cell_type": "markdown",
   "metadata": {},
   "source": [
    "#### Engine-size vs. Price\n",
    "Let's calculate the Pearson correlation coefficient and p-value of 'engine-size' and 'price'.\n"
   ]
  },
  {
   "cell_type": "code",
   "execution_count": null,
   "metadata": {},
   "outputs": [],
   "source": []
  },
  {
   "cell_type": "markdown",
   "metadata": {},
   "source": [
    "**Conclusion**"
   ]
  },
  {
   "cell_type": "markdown",
   "metadata": {},
   "source": [
    "#### Bore vs. Price\n",
    "Let's calculate the Pearson correlation coefficient and p-value of 'bore' and 'price'.\n"
   ]
  },
  {
   "cell_type": "code",
   "execution_count": null,
   "metadata": {},
   "outputs": [],
   "source": []
  },
  {
   "cell_type": "markdown",
   "metadata": {},
   "source": [
    "**Conclusion**"
   ]
  },
  {
   "cell_type": "markdown",
   "metadata": {},
   "source": [
    "#### City MPG vs. Price\n",
    "Let's calculate the Pearson correlation coefficient and p-value of 'city-mpg' and 'price'."
   ]
  },
  {
   "cell_type": "code",
   "execution_count": null,
   "metadata": {},
   "outputs": [],
   "source": []
  },
  {
   "cell_type": "markdown",
   "metadata": {},
   "source": [
    "**Conclusion**"
   ]
  },
  {
   "cell_type": "markdown",
   "metadata": {},
   "source": [
    "#### Highway MPG vs. Price\n",
    "Let's calculate the Pearson correlation coefficient and p-value of 'highway-mpg' and 'price'.\n"
   ]
  },
  {
   "cell_type": "code",
   "execution_count": null,
   "metadata": {},
   "outputs": [],
   "source": []
  },
  {
   "cell_type": "markdown",
   "metadata": {},
   "source": [
    "**Conclusion**"
   ]
  },
  {
   "cell_type": "markdown",
   "metadata": {},
   "source": [
    "### ANOVA: Analysis of Variance\n",
    "The Analysis of Variance  (ANOVA) is a statistical method used to test whether there are significant differences between the means of two or more groups. ANOVA returns two parameters:\n",
    "- **F-test score**: ANOVA assumes the means of all groups are the same, calculates how much the actual means deviate from the assumption, and reports it as the F-test score. A larger score means there is a larger difference between the means.\n",
    "- **P-value<**:  P-value tells how statistically significant our calculated score value is.\n",
    "\n",
    "If our price variable is strongly correlated with the variable we are analyzing, we expect ANOVA to return a sizeable F-test score and a small p-value.\n",
    "\n",
    "#### Drive Wheels\n",
    "From our boxplots earlier, we still aren't sure whether drive wheel type is a good predictor of vehicle price. This is a great time for us to use ANOVA!\n",
    "\n",
    "Since ANOVA analyzes the difference between different groups of the same variable, the groupby function will come in handy. Because the ANOVA algorithm averages the data automatically, we do not need to take the average before hand.\n",
    "\n",
    "To see if different types of 'drive-wheels' impact 'price', we group the data. If we get the 'drive-wheels' and 'price' columns from the dataframe and then use `.groupby(['drive-wheels])`, it will return a grouping of our data by 'drive-wheel'. Let's save it as a variable `gp_dw`."
   ]
  },
  {
   "cell_type": "code",
   "execution_count": null,
   "metadata": {},
   "outputs": [],
   "source": []
  },
  {
   "cell_type": "markdown",
   "metadata": {},
   "source": [
    "Then we can get the prive value for a specific \"drive-wheel\" category with the `get_group()` method. If we wanted to know the 'price' of all 4wd vehicles we could  use `.get_group('4wd')` on `gp_dw`."
   ]
  },
  {
   "cell_type": "code",
   "execution_count": null,
   "metadata": {},
   "outputs": [],
   "source": []
  },
  {
   "cell_type": "markdown",
   "metadata": {},
   "source": [
    "Let's use ANOVA to see if there is a relationship between 'price' and 'fwd', 'rwd', or '4wd'. We can use the `stats` function `f_oneway()` to obtain the **F-test score** and **p-value**. To use it `f_val, p_val = stats.f_oneway(...)` with each group we want to analyze passed in as parameters(by getting the `['price']` column of each row in the group using the `get_group()` function from the last cell). "
   ]
  },
  {
   "cell_type": "code",
   "execution_count": null,
   "metadata": {},
   "outputs": [],
   "source": []
  },
  {
   "cell_type": "markdown",
   "metadata": {},
   "source": [
    "This is a great result with a large F-test score showing a strong correlation and a P-value of almost 0 implying almost certain statistical significance. But does this mean all three tested groups are all this highly correlated?\n",
    "\n",
    "Let's examine them separately.\n",
    "\n",
    "#### fwd and rwd\n",
    "Run the same test with only 'fwd' and 'rwd'"
   ]
  },
  {
   "cell_type": "code",
   "execution_count": null,
   "metadata": {},
   "outputs": [],
   "source": []
  },
  {
   "cell_type": "markdown",
   "metadata": {},
   "source": [
    "\n",
    "#### 4wd and rwd"
   ]
  },
  {
   "cell_type": "code",
   "execution_count": null,
   "metadata": {},
   "outputs": [],
   "source": []
  },
  {
   "cell_type": "markdown",
   "metadata": {},
   "source": [
    "#### 4wd and fwd\n"
   ]
  },
  {
   "cell_type": "code",
   "execution_count": null,
   "metadata": {},
   "outputs": [],
   "source": []
  },
  {
   "cell_type": "markdown",
   "metadata": {},
   "source": [
    "We notice that ANOVA for the categories `4wd` and `fwd` yields a high p-value $> 0.1$, so the calculated F-test score is not very statistically significant. This suggests we can't reject the assumption that the means of these two groups are the same, or, in other words, we can't conclude the difference in correlation to be significant.\n"
   ]
  },
  {
   "cell_type": "markdown",
   "metadata": {},
   "source": [
    "## Conclusion: Important Variables\n",
    "We now have a better idea of what our data looks like and which variables are important to take into account when predicting the car price. We have narrowed it down to the following variables:\n",
    "\n",
    "Continuous numerical variables:\n",
    "- Length\n",
    "- Width\n",
    "- Curb-weight\n",
    "- Engine-size\n",
    "- Horsepower\n",
    "- City-mpg\n",
    "- Highway-mpg\n",
    "- Wheel-base\n",
    "- Bore\n",
    "\n",
    "Categorical variables:\n",
    "- Drive-wheels\n",
    "\n",
    "As we now move into building machine learning models to automate our analysis, feeding the model with variables that meaningfully affect our target variable will improve our model's prediction performance.\n",
    "\n",
    "\n",
    "\n",
    "## Export your file\n",
    "To move to the model building of next lab, we need to save our dataframe in a new file. Use the function `df.to_csv(file_name)` to save your dataframe to a new csv.\n"
   ]
  },
  {
   "cell_type": "code",
   "execution_count": null,
   "metadata": {},
   "outputs": [],
   "source": []
  }
 ],
 "metadata": {
  "kernelspec": {
   "display_name": "base",
   "language": "python",
   "name": "python3"
  },
  "language_info": {
   "codemirror_mode": {
    "name": "ipython",
    "version": 3
   },
   "file_extension": ".py",
   "mimetype": "text/x-python",
   "name": "python",
   "nbconvert_exporter": "python",
   "pygments_lexer": "ipython3",
   "version": "3.11.5"
  }
 },
 "nbformat": 4,
 "nbformat_minor": 2
}
