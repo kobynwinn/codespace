{
 "cells": [
  {
   "cell_type": "code",
   "execution_count": 1,
   "id": "4997b503-0b8d-45f7-a53d-866c29a79df2",
   "metadata": {},
   "outputs": [
    {
     "name": "stdout",
     "output_type": "stream",
     "text": [
      "hah\n"
     ]
    }
   ],
   "source": [
    "#was left here on accident :D"
   ]
  },
  {
   "cell_type": "code",
   "execution_count": 57,
   "id": "a5cc33b5-4ff3-4d4c-a1bf-791bd3440fd2",
   "metadata": {},
   "outputs": [
    {
     "name": "stdout",
     "output_type": "stream",
     "text": [
      "{'a': 4646, 'b': 921, 'c': 1445, 'd': 2736, 'e': 7562, 'f': 1196, 'g': 1371, 'h': 3671, 'i': 3939, 'j': 105, 'k': 625, 'l': 2556, 'm': 1279, 'n': 3967, 'o': 4836, 'p': 1012, 'q': 46, 'r': 3881, 's': 3720, 't': 5295, 'u': 1780, 'v': 470, 'w': 1319, 'x': 80, 'y': 1464, 'z': 10, 'and': 389}\n"
     ]
    }
   ],
   "source": [
    "keys = {\"a\": 0, \"b\": 0, \"c\": 0, \"d\": 0, \"e\": 0, \"f\": 0, \"g\": 0,\n",
    "        \"h\":0, \"i\":0, \"j\":0, \"k\":0, \"l\":0, \"m\":0, \"n\":0, \"o\":0, \"p\":0, \"q\":0,\n",
    "        \"r\":0, \"s\":0, \"t\":0, \"u\":0, \"v\":0, \"w\":0, \"x\":0,\"y\":0,\"z\":0}\n",
    "#makes a dict with the entire alphabet (can be expanded to whole words)\n",
    "\n",
    "with open(\"book1.txt\", \"r\") as file: #opening our book\n",
    "    lines = file.readlines()\n",
    "\n",
    "for line in lines:\n",
    "    z = line.lower().split(\" \")\n",
    "    for i in z:\n",
    "        if i in keys:\n",
    "            keys[i] += 1\n",
    "# this code will look for entire words in our keywords dict and add to a counter if it spots one\n",
    "    for i in range(len(line)):\n",
    "        if line[i] in keys:\n",
    "            keys[line[i]] += 1\n",
    "            #this will look for the individual letters in our keys and add to a counter if one is seen\n",
    "print(keys)\n",
    "#displays our counter that is built into our key dict"
   ]
  },
  {
   "cell_type": "code",
   "execution_count": 58,
   "id": "f5a2cb29-e805-49bc-9d75-41c6bd1a350e",
   "metadata": {},
   "outputs": [
    {
     "name": "stdout",
     "output_type": "stream",
     "text": [
      "skipped\n"
     ]
    }
   ],
   "source": [
    "import operator\n",
    "#importing librarys\n",
    "iplst = []\n",
    "pages = []\n",
    "pageval = {}\n",
    "#builds our list's and dict's\n",
    "with open(\"server_log.txt\", \"r\") as file:# opens file and reads lines\n",
    "    lines = file.readlines()\n",
    "\n",
    "for line in lines:\n",
    "    if line == \"IP Address-Timestamp-Page Accessed\\n\":\n",
    "        print('skipped')\n",
    "        continue\n",
    "        #this will skip over the first line in our txt file\n",
    "    z = line.split(\"-\")\n",
    "    # this splits our line into three strings inside a list named z\n",
    "\n",
    "    if z[0] in iplst:\n",
    "        pass\n",
    "    else:\n",
    "        iplst.append(z[0])\n",
    "    #checks if our current ip has already been used, if not it adds it to a unique ip list\n",
    "    pages.append(z[2])\n",
    "    #adds our website to a list\n",
    "for i in range(len(pages)):\n",
    "    if pages[i] in pageval:\n",
    "        pass\n",
    "    else:\n",
    "        placehold = str(pages[i])\n",
    "        pageval[placehold] = 0\n",
    "        #this looks to see if we have a new or old website, if new it will add it to our dict under a value of 0\n",
    "for i in range(len(pages)):\n",
    "    if pages[i] in pageval:\n",
    "        pageval[pages[i]] += 1\n",
    "#this calculates the number of times each website has been visited\n",
    "\n",
    "ipcount = len(iplst) + 1 #totals our ip's\n",
    "sorted_dict = dict(sorted(pageval.items(), key=operator.itemgetter(1), reverse=True))\n",
    "pagevallist = list(sorted_dict.items())[:3]\n",
    "#this sortes our dict into a list that is much easier to write to the file\n",
    "with open(\"server_summary.txt\", \"w\") as file2:\n",
    "    file2.write(\"most viewed sites: \\n\"f\"{pagevallist}\\n\" \"\\n\" \"original IP's: \"f\"{ipcount}\\n\"  f\"{iplst}\\n\")\n",
    "#and finally we write to our file our information"
   ]
  },
  {
   "cell_type": "code",
   "execution_count": 70,
   "id": "18bb314b",
   "metadata": {},
   "outputs": [
    {
     "name": "stdout",
     "output_type": "stream",
     "text": [
      "----------------  --\n",
      "super shy         30\n",
      "dance the night   27\n",
      "i wanna be yours  25\n",
      "rush              25\n",
      "lala              23\n",
      "another love      21\n",
      "blank space       21\n",
      "flowers           21\n",
      "where she goes    18\n",
      "anti-hero         16\n",
      "----------------  --\n"
     ]
    }
   ],
   "source": [
    "import operator\n",
    "from tabulate import tabulate\n",
    "#getting librarys\n",
    "songlst = []\n",
    "songcount = {}\n",
    "songsplayed = []\n",
    "#building our lists and dictionaries\n",
    "with open(\"spotify_data.csv\", \"r\") as file:\n",
    "    lines = file.readlines()\n",
    "    for line in lines: #we open our file and read our lines.\n",
    "        if line == \"track_name,artist_name,date,time\\n\":\n",
    "            continue #this will skip over our first line in the csv\n",
    "        z = line.lower().strip().split(\",\") #splits our line into a list (track, artist,date,time)\n",
    "        if z[0] in songlst: #seeing if we have a new song \n",
    "            pass #for old songs\n",
    "        else:\n",
    "            songlst.append(z[0])#for new songs\n",
    "        songsplayed.append(z[0]) #adds song to list\n",
    "\n",
    "for i in range (len(songlst)):\n",
    "    if songlst[i] in songcount:\n",
    "        pass\n",
    "    else:\n",
    "        songcount[songlst[i]] = 0\n",
    "#builds our songcount dict based on our song list\n",
    "for i in range (len(songsplayed)):\n",
    "    if songsplayed[i] in songcount:\n",
    "        songcount[songsplayed[i]] += 1\n",
    "# counts how many time we listened to a song\n",
    "sorted_dict = dict(sorted(songcount.items(), key=operator.itemgetter(1), reverse=True))\n",
    "pagevallist = list(sorted_dict.items())[:10]\n",
    "#sorts our dict into a list that is easier to use\n",
    "print(tabulate(pagevallist))\n",
    "#prints our info into a list"
   ]
  },
  {
   "cell_type": "code",
   "execution_count": 75,
   "id": "e68ce538",
   "metadata": {},
   "outputs": [
    {
     "name": "stdout",
     "output_type": "stream",
     "text": [
      "19\n",
      "['t', 'u', 'v', 'w', 'x', 'y', 'z', 'a', 'b', 'c', 'd', 'e', 'f', 'g', 'h', 'i', 'j', 'k', 'l', 'm', 'n', 'o', 'p', 'q', 'r', 's']\n",
      "{'a': 't', 'b': 'u', 'c': 'v', 'd': 'w', 'e': 'x', 'f': 'y', 'g': 'z', 'h': 'a', 'i': 'b', 'j': 'c', 'k': 'd', 'l': 'e', 'm': 'f', 'n': 'g', 'o': 'h', 'p': 'i', 'q': 'j', 'r': 'k', 's': 'l', 't': 'm', 'u': 'n', 'v': 'o', 'w': 'p', 'x': 'q', 'y': 'r', 'z': 's'}\n",
      "max ybmgxll\n"
     ]
    }
   ],
   "source": [
    "#this is testcode for me seeing how to shift the alphabet\n",
    "\n",
    "import string\n",
    "from random import randint\n",
    "alpha = list(string.ascii_lowercase)\n",
    "\n",
    "alpha2 = list(string.ascii_lowercase)\n",
    "shift = randint(0,25)\n",
    "print(shift)\n",
    "if shift == 0:\n",
    "    pass\n",
    "else:\n",
    "    for i in range(shift):\n",
    "        x = alpha2[0]\n",
    "        alpha2.pop(0)\n",
    "        alpha2.append(x)\n",
    "print(alpha2)\n",
    "text = \"The fitness\".lower()\n",
    "\n",
    "alphadict = {}\n",
    "text2 = \"\"\n",
    "for i in range(len(alpha)):\n",
    "    alphadict[alpha[i]] = alpha2[i]\n",
    "print(alphadict)\n",
    "for i in range(len(text)):# begins decoding\n",
    "        for x in range (len(alpha)):\n",
    "            if text[i] == \" \":\n",
    "                text2 += text[i]\n",
    "                break#checks for spaces and skips them\n",
    "            elif text[i] == alpha[x]:\n",
    "                z = alphadict[alpha[x]]\n",
    "                text2 += z\n",
    "                break #shifts our ciphertext (renamed text) to our shifted version\n",
    "            else:\n",
    "                 pass\n",
    "print(text2)"
   ]
  },
  {
   "cell_type": "code",
   "execution_count": 76,
   "id": "88213ec7",
   "metadata": {},
   "outputs": [
    {
     "name": "stdout",
     "output_type": "stream",
     "text": [
      "a = a\n",
      "max ybmgxl\n",
      "a = b\n",
      "nby zcnhym\n",
      "a = d\n",
      "pda bepjao\n",
      "a = g\n",
      "sgd ehsmdr\n",
      "a = k\n",
      "wkh ilwqhv\n",
      "a = p\n",
      "bpm nqbvma\n",
      "a = v\n",
      "hvs twhbsg\n",
      "a = c\n",
      "ocz adoizn\n",
      "a = k\n",
      "wkh ilwqhv\n",
      "a = t\n",
      "ftq rufzqe\n",
      "a = d\n",
      "pda bepjao\n",
      "a = o\n",
      "aol mpaulz\n",
      "a = a\n",
      "max ybmgxl\n",
      "a = n\n",
      "znk loztky\n",
      "a = b\n",
      "nby zcnhym\n",
      "a = q\n",
      "cqn orcwnb\n",
      "a = g\n",
      "sgd ehsmdr\n",
      "a = x\n",
      "jxu vyjdui\n",
      "a = p\n",
      "bpm nqbvma\n",
      "a = i\n",
      "uif gjuoft\n",
      "a = c\n",
      "ocz adoizn\n",
      "a = x\n",
      "jxu vyjdui\n",
      "a = t\n",
      "ftq rufzqe\n",
      "a = q\n",
      "cqn orcwnb\n",
      "a = o\n",
      "aol mpaulz\n",
      "a = n\n",
      "znk loztky\n"
     ]
    }
   ],
   "source": [
    "import string\n",
    "alpha = list(string.ascii_lowercase)\n",
    "shift = 0\n",
    "cypher_text = \"max ybmgxll\"\n",
    "\n",
    "alpha2 = list(string.ascii_lowercase)\n",
    "alphadict = {}\n",
    "cypher_text = cypher_text.lower()\n",
    "text = cypher_text\n",
    "#setting all of our lists and librarys\n",
    "for shift in range(26):\n",
    "    text2 = \"\" #empty string for unencoded text\n",
    "    if shift == 0:\n",
    "        pass\n",
    "    else:\n",
    "        for i in range(shift):\n",
    "            x = alpha2[0]\n",
    "            alpha2.pop(0)\n",
    "            alpha2.append(x)\n",
    "            #this shifts our alphabet according to the shift int\n",
    "    for i in range(len(alpha)):\n",
    "        alphadict[alpha[i]] = alpha2[i]\n",
    "        #builds a dict with a regualr alphabet and a shifted alphabet ex. a:f\n",
    "    for i in range(len(cypher_text)):# begins decoding\n",
    "        for x in range (len(alpha)):\n",
    "            if text[i] == \" \":\n",
    "                text2 += text[i]\n",
    "                break#checks for spaces and skips them\n",
    "            elif text[i] == alpha[x]:\n",
    "                z = alphadict[alpha[x]]\n",
    "                text2 += z\n",
    "                break #shifts our ciphertext (renamed text) to our shifted version\n",
    "    if \"the\" in text2 or \"and\" in text2:\n",
    "        print(\"decode shift of: \",shift, \"\\n\")\n",
    "        print(\"a =\", alphadict[\"a\"])\n",
    "        print(text2)\n",
    "        break #checks for english letters, if it sees and or the it will print our text and shift and end the code\n",
    "    else:\n",
    "        print(\"a =\", alphadict[\"a\"])\n",
    "        print(text2[0:10])\n",
    "    text2 = \"\" #resseting text 2 for next shift\n",
    "    #this is designed to brute force caesar cipher through every possible\n",
    "    \n",
    "    \n",
    "    "
   ]
  },
  {
   "cell_type": "code",
   "execution_count": 1,
   "metadata": {},
   "outputs": [
    {
     "name": "stdout",
     "output_type": "stream",
     "text": [
      "78\n"
     ]
    }
   ],
   "source": [
    "line = \"count(salary) as count from empsalary where ispermanent='yes' and salary>5000;\"\n",
    "print(len(line))"
   ]
  }
 ],
 "metadata": {
  "kernelspec": {
   "display_name": "Python 3 (ipykernel)",
   "language": "python",
   "name": "python3"
  },
  "language_info": {
   "codemirror_mode": {
    "name": "ipython",
    "version": 3
   },
   "file_extension": ".py",
   "mimetype": "text/x-python",
   "name": "python",
   "nbconvert_exporter": "python",
   "pygments_lexer": "ipython3",
   "version": "3.10.12"
  }
 },
 "nbformat": 4,
 "nbformat_minor": 5
}
